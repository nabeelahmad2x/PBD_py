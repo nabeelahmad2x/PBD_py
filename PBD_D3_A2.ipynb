{
 "cells": [
  {
   "cell_type": "code",
   "execution_count": null,
   "id": "7c28350f",
   "metadata": {},
   "outputs": [],
   "source": [
    "import pandas as pd\n",
    "import numpy as np\n",
    "import matplotlib as plt\n",
    "from matplotlib import pyplot\n",
    "from sklearn import datasets"
   ]
  },
  {
   "cell_type": "code",
   "execution_count": null,
   "id": "2ff03e08",
   "metadata": {},
   "outputs": [],
   "source": [
    "data=pd.read_csv('mydt.csv')"
   ]
  },
  {
   "cell_type": "code",
   "execution_count": null,
   "id": "16a8e798",
   "metadata": {},
   "outputs": [],
   "source": [
    "df=pd.dataframe({'X':data['x1'],'Y':data['x2'],'cluster':temp['change']})"
   ]
  },
  {
   "cell_type": "code",
   "execution_count": null,
   "id": "c97ad81e",
   "metadata": {},
   "outputs": [],
   "source": [
    "df"
   ]
  },
  {
   "cell_type": "code",
   "execution_count": null,
   "id": "815feb71",
   "metadata": {},
   "outputs": [],
   "source": [
    "mycentroids={}\n",
    "for i in range(3):\n",
    "    arr=[]\n",
    "    arr.append(df.loc[df['cluster']==i]['X'],mean())\n",
    "    arr.append(df.loc[df['cluster']==i]['Y'],mean())\n",
    "    mycentroids[i]=arr;"
   ]
  },
  {
   "cell_type": "code",
   "execution_count": null,
   "id": "95b2c88f",
   "metadata": {},
   "outputs": [],
   "source": [
    "for i in range(3):\n",
    "    print(mycentroids[i],' ')"
   ]
  },
  {
   "cell_type": "code",
   "execution_count": null,
   "id": "e9f6445f",
   "metadata": {},
   "outputs": [],
   "source": [
    "plt.pyplot.scatter(df['X'],df['Y'],c=data['change'])\n",
    "plt.pyplot.xlabel('X-Axis',fontsize=20)\n",
    "plt.pyplot.ylabel('Y-Axis',fontsize=20)"
   ]
  },
  {
   "cell_type": "code",
   "execution_count": null,
   "id": "05e45243",
   "metadata": {},
   "outputs": [],
   "source": [
    "Colors={0:'blue',1:'red',2:'cyan'}\n",
    "for i in range(3):\n",
    "    plt.pyplot.scatter(mycentroids[i][0],mycentroids[i][1],color=Colors[i])\n",
    "plt.pyplot.show()"
   ]
  },
  {
   "cell_type": "code",
   "execution_count": null,
   "id": "d61a0e32",
   "metadata": {},
   "outputs": [],
   "source": [
    "plt.pyplot.scatter(df['X'],df['Y'],c=data['change'])\n",
    "for i in range(3):\n",
    "    plt.pyplot.scatter(mycentroids[i][0],mycentroids[i][1],color=Colors[i],marker='*')\n",
    "plt.pyplot.show()"
   ]
  },
  {
   "cell_type": "code",
   "execution_count": null,
   "id": "a053397d",
   "metadata": {},
   "outputs": [],
   "source": [
    "def assignment(df,mycentroids):\n",
    "    for i in range(3):\n",
    "        df['dist_from_centroid_{}'.format(i)]=(np.sqrt((df['X']-mycentroids[i][0])**2+(df['Y']-mycentroids[i][1])**2))\n",
    "    distanceFromCentroids=['dist_from_centroid_{}'.format(j)for j in mycentroid.keys()]\n",
    "    df['nearest']=df.loc[:,distanceFromCentroids].idxmin(axis=1)\n",
    "    df['nearest']=df['nearest'].map(lambda x:int(x.lstrip('dist_from_centroid_')))\n",
    "    df['nearest']=df['nearest'].map(lambda x: Colors[x])\n",
    "    return df"
   ]
  },
  {
   "cell_type": "code",
   "execution_count": null,
   "id": "57eadda6",
   "metadata": {},
   "outputs": [],
   "source": [
    "df=assignment(df,mycentroids)"
   ]
  },
  {
   "cell_type": "code",
   "execution_count": null,
   "id": "ccce5a2f",
   "metadata": {},
   "outputs": [],
   "source": [
    "plt.pyplot.scatter(df['X'],df['Y'],color=df['Colors'])\n",
    "for j in mycentroids.keys():\n",
    "    plt.pyplot.scatter(*mycentroids[j],color=Colors[j],marker='*',s=150)\n",
    "plt.pyplot.show"
   ]
  },
  {
   "cell_type": "code",
   "execution_count": null,
   "id": "8a62e199",
   "metadata": {},
   "outputs": [],
   "source": [
    "def update(cent):\n",
    "    for i in range(3):\n",
    "        mycentroids[i][0]=np.mean(df[df['nearest']==i]['X'])\n",
    "        mycentroids[i][1]=np.mean(df[df['nearest']==i]['Y'])\n",
    "    return cent"
   ]
  },
  {
   "cell_type": "code",
   "execution_count": null,
   "id": "f4ccccdd",
   "metadata": {},
   "outputs": [],
   "source": [
    "mycentroids=update(mycentroids)\n",
    "df=assignment(df,mycentroids)"
   ]
  },
  {
   "cell_type": "code",
   "execution_count": null,
   "id": "5e354cc3",
   "metadata": {},
   "outputs": [],
   "source": [
    "plt.pyplot.scatter(df['X'],df['Y'],color=df['Colors'])\n",
    "for j in mycentroids.keys():\n",
    "    plt.pyplot.scatter(*mycentroids[j],color=Colors[j])"
   ]
  },
  {
   "cell_type": "code",
   "execution_count": null,
   "id": "e4c0cfcd",
   "metadata": {},
   "outputs": [],
   "source": [
    "plt.pyplot.show()"
   ]
  },
  {
   "cell_type": "code",
   "execution_count": null,
   "id": "85f9095c",
   "metadata": {},
   "outputs": [],
   "source": [
    "while 1:\n",
    "    nearest_centroids=df['nearest'].copy(deep=True)\n",
    "    mycentroids=update(mycentroids)\n",
    "    df=assignment(df.mycentroids)\n",
    "    if nearest.centroids.equals(df['nearest']):\n",
    "        break\n"
   ]
  },
  {
   "cell_type": "code",
   "execution_count": null,
   "id": "87b48202",
   "metadata": {},
   "outputs": [],
   "source": [
    "plt.pyplot.scatter(df['X'],df['Y'],color=df['Colors'])\n",
    "for j in mycentroids.keys():\n",
    "    plt.pyplot.scatter(*mycentroids[j],color=Colors[j])\n",
    "plt.pyplot.show()"
   ]
  },
  {
   "cell_type": "code",
   "execution_count": null,
   "id": "85d617af",
   "metadata": {},
   "outputs": [],
   "source": []
  }
 ],
 "metadata": {
  "kernelspec": {
   "display_name": "Python 3 (ipykernel)",
   "language": "python",
   "name": "python3"
  },
  "language_info": {
   "codemirror_mode": {
    "name": "ipython",
    "version": 3
   },
   "file_extension": ".py",
   "mimetype": "text/x-python",
   "name": "python",
   "nbconvert_exporter": "python",
   "pygments_lexer": "ipython3",
   "version": "3.9.7"
  }
 },
 "nbformat": 4,
 "nbformat_minor": 5
}
