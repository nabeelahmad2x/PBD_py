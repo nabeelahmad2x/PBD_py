{
 "cells": [
  {
   "cell_type": "markdown",
   "id": "b8d336b6",
   "metadata": {},
   "source": [
    "Question 1: Find the total number of patients of each disease (diagnosis) and plot in histogram."
   ]
  },
  {
   "cell_type": "code",
   "execution_count": null,
   "id": "7664806f",
   "metadata": {},
   "outputs": [],
   "source": [
    "import pandas as pd"
   ]
  },
  {
   "cell_type": "code",
   "execution_count": null,
   "id": "9ccf09e6",
   "metadata": {},
   "outputs": [],
   "source": [
    "filename='C:\\\\Users\\\\nabee\\\\Documents\\\\jsrt_metadata.csv'\n",
    "data=pd.read_csv(filename,header=0)"
   ]
  },
  {
   "cell_type": "code",
   "execution_count": null,
   "id": "662290af",
   "metadata": {},
   "outputs": [],
   "source": [
    "data"
   ]
  },
  {
   "cell_type": "code",
   "execution_count": null,
   "id": "b3601f83",
   "metadata": {},
   "outputs": [],
   "source": [
    "data.isnull().sum()"
   ]
  },
  {
   "cell_type": "code",
   "execution_count": null,
   "id": "0f36feb1",
   "metadata": {},
   "outputs": [],
   "source": [
    "import matplotlib as plt\n",
    "from matplotlib import pyplot"
   ]
  },
  {
   "cell_type": "code",
   "execution_count": null,
   "id": "cd146d1f",
   "metadata": {},
   "outputs": [],
   "source": [
    "plt.pyplot.hist(data['diagnosis'].value_counts())"
   ]
  },
  {
   "cell_type": "markdown",
   "id": "ea9ae691",
   "metadata": {},
   "source": [
    "Q2. Find the total number of patients of each disease (diagnosis) with respect to the disease state(malignant or benign) and\n",
    "plot in a pie chart"
   ]
  },
  {
   "cell_type": "code",
   "execution_count": null,
   "id": "c59cd953",
   "metadata": {},
   "outputs": [],
   "source": [
    "plt.pyplot.pie(data['diagnosis'].value_counts(),colors=['pink','blue','yellow','red','green','orange','cyan'],autopct='%1.3f%%')"
   ]
  },
  {
   "cell_type": "code",
   "execution_count": null,
   "id": "f3f5f2c9",
   "metadata": {},
   "outputs": [],
   "source": []
  }
 ],
 "metadata": {
  "kernelspec": {
   "display_name": "Python 3 (ipykernel)",
   "language": "python",
   "name": "python3"
  },
  "language_info": {
   "codemirror_mode": {
    "name": "ipython",
    "version": 3
   },
   "file_extension": ".py",
   "mimetype": "text/x-python",
   "name": "python",
   "nbconvert_exporter": "python",
   "pygments_lexer": "ipython3",
   "version": "3.9.7"
  }
 },
 "nbformat": 4,
 "nbformat_minor": 5
}
